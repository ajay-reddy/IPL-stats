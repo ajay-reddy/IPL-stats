{
 "cells": [
  {
   "cell_type": "code",
   "execution_count": 3,
   "metadata": {},
   "outputs": [],
   "source": [
    "import pandas as pd\n",
    "import numpy as np\n",
    "from matplotlib import pyplot as plt"
   ]
  },
  {
   "cell_type": "code",
   "execution_count": 4,
   "metadata": {},
   "outputs": [],
   "source": [
    "dataset = pd.read_csv('matches.csv')\n",
    "#dataset\n",
    "#dataset = pd.Series[dataset]"
   ]
  },
  {
   "cell_type": "code",
   "execution_count": 5,
   "metadata": {},
   "outputs": [],
   "source": [
    "dataset1 = pd.read_csv('deliveries.csv')"
   ]
  },
  {
   "cell_type": "code",
   "execution_count": 6,
   "metadata": {},
   "outputs": [],
   "source": [
    "dictOfTeams = {'mi':'Mumbai Indians','csk':'Chennai Super Kings','rcb':'Royal Challengers Bangalore','srh':'Sunrisers Hyderabad','kings11':'Kings XI Punjab','kkr':'Kolkata Knight Riders','rr':'Rajasthan Royals','dc':'Delhi Daredevils'}\n",
    "dictOfColors = {'mi':'blue','csk':'yellow','rcb':'red','srh':'orangered','kings11':'deeppink','kkr':'mediumblue','rr':'cornflowerblue','dc':'lightsteelblue'}"
   ]
  },
  {
   "cell_type": "code",
   "execution_count": 7,
   "metadata": {},
   "outputs": [
    {
     "name": "stdout",
     "output_type": "stream",
     "text": [
      "Enter team name rcb\n",
      "[4, 9, 8, 10, 8, 9, 5, 8, 9, 3, 6] [10, 7, 8, 6, 7, 7, 9, 6, 7, 10, 8] [0, 0, 0, 0, 0, 0, 0, 2, 0, 0, 0]\n",
      "[28.57, 56.25, 50.0, 62.5, 53.33, 56.25, 35.71, 50.0, 56.25, 23.08, 42.86]\n"
     ]
    },
    {
     "data": {
      "image/png": "[encoded data removed]",
      "text/plain": [
       "<Figure size 432x288 with 1 Axes>"
      ]
     },
     "metadata": {
      "needs_background": "light"
     },
     "output_type": "display_data"
    }
   ],
   "source": [
    "#check a team winning graph\n",
    "def team_stats(t):\n",
    "    team = dictOfTeams[t]\n",
    "    if t in ['csk','rr']:\n",
    "        wins = [0,0,0,0,0,0,0,0,2,2,0]\n",
    "        losses,no_result = [0,0,0,0,0,0,0,0,1,1,0],[0,0,0,0,0,0,0,0,0,0,0]\n",
    "    else:\n",
    "        wins = [0,0,0,0,0,0,0,0,0,0,0]\n",
    "        losses,no_result = [0,0,0,0,0,0,0,0,0,0,0],[0,0,0,0,0,0,0,0,0,0,0]\n",
    "    for i,j,k,l,m in zip(dataset['team1'],dataset['team2'],dataset['result'],dataset['winner'],dataset['season']):\n",
    "        val = int(m)-2008\n",
    "        if team in [i,j]:\n",
    "            if k != 'no result':\n",
    "                if l == team:\n",
    "                    wins[val] += 1\n",
    "                else:\n",
    "                    losses[val] += 1\n",
    "            else:\n",
    "                no_result[val] += 1\n",
    "    #print(wins,losses,no_result)\n",
    "    for i in range(0,len(wins)):\n",
    "        if (wins[i]==0 and losses[i]==0 and no_result[i]==0):\n",
    "            wins[i] = -1\n",
    "    print(wins,losses,no_result)\n",
    "    win_percentage = [round(((i/(i+j+k))*100),2) for i,j,k in zip(wins,losses,no_result)]\n",
    "    print(win_percentage)\n",
    "    if t in ['csk','rr']:\n",
    "        win_percentage[8:10] = [0,0]\n",
    "        print(t,\" not played IPL in 2016 and 2017\")\n",
    "    years = [i for i in range(2008,2019)]\n",
    "    plt.bar(years,win_percentage,color=dictOfColors[t])\n",
    "team_name = str(input('Enter team name '))\n",
    "team_stats(team_name)"
   ]
  },
  {
   "cell_type": "code",
   "execution_count": 8,
   "metadata": {},
   "outputs": [
    {
     "name": "stdout",
     "output_type": "stream",
     "text": [
      "Enter team 1 : kings11\n",
      "Enter team 2 : rr\n"
     ]
    },
    {
     "data": {
      "image/png": "[encoded data removed]",
      "text/plain": [
       "<Figure size 432x288 with 1 Axes>"
      ]
     },
     "metadata": {},
     "output_type": "display_data"
    }
   ],
   "source": [
    "#function to compare two functions\n",
    "def compare_two_teams(t1,t2):\n",
    "    global dataset\n",
    "    team1,team2 = dictOfTeams[t1],dictOfTeams[t2]\n",
    "    wins1,wins2,no_result,total = 0,0,0,0\n",
    "    for i,j,k,l in zip(dataset['team1'],dataset['team2'],dataset['winner'],dataset['result']):\n",
    "        if team1 in [i,j] and team2 in [i,j]:\n",
    "            if k==team1:\n",
    "                wins1 += 1\n",
    "            elif k==team2:\n",
    "                wins2 += 1\n",
    "            if l=='no result':\n",
    "                no_result += 1\n",
    "            total += 1\n",
    "    #print(wins1,wins2,no_result,total)\n",
    "    labels = [team1,team2,'no_result']\n",
    "    sizes = [wins1,wins2,no_result]\n",
    "    colors = [dictOfColors[t1],dictOfColors[t2],'black']\n",
    "    explode = (0.1,0.1,0.1)\n",
    "    plt.pie(sizes, explode = explode, labels=labels, colors=colors,autopct='%1.1f%%', shadow=True, startangle=140)\n",
    "    plt.legend([t1,t2,'na'],loc='upper left')\n",
    "    plt.axis('equal')\n",
    "    plt.show()\n",
    "t1 = str(input('Enter team 1 : '))\n",
    "t2 = str(input('Enter team 2 : '))\n",
    "compare_two_teams(t1,t2)"
   ]
  },
  {
   "cell_type": "code",
   "execution_count": 9,
   "metadata": {},
   "outputs": [],
   "source": [
    "########GET STATS OF A INDIVIDUAL PLAYER#########\n",
    "#1.select a team\n",
    "#2.view players list in the selected team\n",
    "#3.select a player from the list\n",
    "#4.view stats of selected player\n",
    "#season id 7894-7953"
   ]
  },
  {
   "cell_type": "code",
   "execution_count": 10,
   "metadata": {},
   "outputs": [
    {
     "name": "stdout",
     "output_type": "stream",
     "text": [
      "Enter team Name : kings11\n",
      "['KL Rahul', 'MA Agarwal', 'Yuvraj Singh', 'KK Nair', 'DA Miller', 'MP Stoinis', 'AJ Finch', 'AR Patel', 'R Ashwin', 'AJ Tye', 'MM Sharma', 'M Ur Rahman', 'CH Gayle', 'BB Sran', 'MK Tiwary', 'AS Rajpoot', 'AD Nath']\n"
     ]
    }
   ],
   "source": [
    "teamName = str(input('Enter team Name : '))\n",
    "listOfPlayers = []\n",
    "for i,j,k in zip(dataset1['batting_team'],dataset1['match_id'],dataset1['batsman']):\n",
    "    if i == dictOfTeams[teamName] and int(j) in range(7894,7954):\n",
    "        if k not in listOfPlayers:\n",
    "            listOfPlayers += [k]\n",
    "print(listOfPlayers)"
   ]
  },
  {
   "cell_type": "code",
   "execution_count": 11,
   "metadata": {},
   "outputs": [
    {
     "name": "stdout",
     "output_type": "stream",
     "text": [
      "Enter player name : KL Rahul\n",
      "KL Rahul stats\n",
      "runs        : 1403\n",
      "balls faced : 993\n",
      "strike rate : 141.29\n",
      "average     : 38.97\n"
     ]
    }
   ],
   "source": [
    "#select a player...Player names are case sensitive\n",
    "#It is better to view the player name from the above cell and enter.\n",
    "player = str(input('Enter player name : '))\n",
    "runs,outs,balls_faced = 0,0,0\n",
    "for i,j,k,l,m,n in zip(dataset1['batsman_runs'],dataset1['match_id'],dataset1['batsman'],dataset1['player_dismissed'],dataset1['wide_runs'],dataset1['is_super_over']):\n",
    "    if l==player and int(n)==0:\n",
    "            outs += 1\n",
    "    if k==player and int(n)==0:\n",
    "        runs += int(i)\n",
    "        if int(m)==0:\n",
    "            balls_faced += 1\n",
    "print(player,\"stats\")\n",
    "print(\"runs        :\",runs)\n",
    "print(\"balls faced :\",balls_faced)\n",
    "print(\"strike rate :\",round(((runs/balls_faced)*100),2))\n",
    "print(\"average     :\",round((runs/outs),2))"
   ]
  },
  {
   "cell_type": "code",
   "execution_count": 11,
   "metadata": {},
   "outputs": [
    {
     "name": "stdout",
     "output_type": "stream",
     "text": [
      "Enter batsman name : SK Raina\n",
      "Enter bowler name : DJ Bravo\n",
      "runs_scored :  55\n",
      "balls_faced : 32\n",
      "dismissals  : 4\n"
     ]
    }
   ],
   "source": [
    "#Bowler vs Batsman\n",
    "batsman = str(input('Enter batsman name : '))\n",
    "bowler = str(input('Enter bowler name : '))\n",
    "balls,runs,outs,f = 0,0,0,0\n",
    "for i,j,k,l,m,n in zip(dataset1['batsman'],dataset1['bowler'],dataset1['batsman_runs'],dataset1['player_dismissed'],dataset1['dismissal_kind'],dataset1['wide_runs']):\n",
    "    if i == batsman and j == bowler and int(n)==0:\n",
    "        f = 1\n",
    "        balls += 1\n",
    "        runs += int(k)\n",
    "        if l==batsman and m!='run out':\n",
    "            outs += 1\n",
    "if f==0:\n",
    "    print('They did not face each other')\n",
    "else:\n",
    "    print(\"runs_scored : \",runs)\n",
    "    print(\"balls_faced :\",balls)\n",
    "    print(\"dismissals  :\",outs)"
   ]
  },
  {
   "cell_type": "code",
   "execution_count": 14,
   "metadata": {},
   "outputs": [
    {
     "name": "stdout",
     "output_type": "stream",
     "text": [
      "Enter batsman name : KL Rahul\n",
      "Enter Team name : rr\n",
      "runs_scored :  225\n",
      "balls_faced : 165\n",
      "dismissals  : 3\n"
     ]
    }
   ],
   "source": [
    "#Batsman against a specified team\n",
    "batsman = str(input('Enter batsman name : '))\n",
    "team = str(input('Enter Team name : '))\n",
    "balls,runs,outs,f = 0,0,0,0\n",
    "for i,j,k,l,m,n in zip(dataset1['batsman'],dataset1['bowling_team'],dataset1['batsman_runs'],dataset1['player_dismissed'],dataset1['dismissal_kind'],dataset1['wide_runs']):\n",
    "    if i == batsman and j == dictOfTeams[team] and int(n)==0:\n",
    "        f = 1\n",
    "        balls += 1\n",
    "        runs += int(k)\n",
    "        if l==batsman and m!='run out':\n",
    "            outs += 1\n",
    "if f==0:\n",
    "    print(batsman,'did not bat against',team)\n",
    "else:\n",
    "    print(\"runs_scored : \",runs)\n",
    "    print(\"balls_faced :\",balls)\n",
    "    print(\"dismissals  :\",outs)\n"
   ]
  },
  {
   "cell_type": "code",
   "execution_count": null,
   "metadata": {},
   "outputs": [],
   "source": []
  },
  {
   "cell_type": "code",
   "execution_count": null,
   "metadata": {},
   "outputs": [],
   "source": []
  }
 ],
 "metadata": {
  "kernelspec": {
   "display_name": "Python 3",
   "language": "python",
   "name": "python3"
  },
  "language_info": {
   "codemirror_mode": {
    "name": "ipython",
    "version": 3
   },
   "file_extension": ".py",
   "mimetype": "text/x-python",
   "name": "python",
   "nbconvert_exporter": "python",
   "pygments_lexer": "ipython3",
   "version": "3.7.2"
  }
 },
 "nbformat": 4,
 "nbformat_minor": 2
}
